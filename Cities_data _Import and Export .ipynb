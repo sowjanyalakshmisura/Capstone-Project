{
 "cells": [
  {
   "cell_type": "code",
   "execution_count": 9,
   "id": "abaab55c",
   "metadata": {},
   "outputs": [
    {
     "name": "stdout",
     "output_type": "stream",
     "text": [
      "     LatD   \"LatM\"   \"LatS\"  \"NS\"   \"LonD\"   \"LonM\"   \"LonS\"  \"EW\"  \\\n",
      "0      41        5       59   \"N\"       80       39        0   \"W\"   \n",
      "1      42       52       48   \"N\"       97       23       23   \"W\"   \n",
      "2      46       35       59   \"N\"      120       30       36   \"W\"   \n",
      "3      42       16       12   \"N\"       71       48        0   \"W\"   \n",
      "4      43       37       48   \"N\"       89       46       11   \"W\"   \n",
      "..    ...      ...      ...   ...      ...      ...      ...   ...   \n",
      "123    39       31       12   \"N\"      119       48       35   \"W\"   \n",
      "124    50       25       11   \"N\"      104       39        0   \"W\"   \n",
      "125    40       10       48   \"N\"      122       14       23   \"W\"   \n",
      "126    40       19       48   \"N\"       75       55       48   \"W\"   \n",
      "127    41        9       35   \"N\"       81       14       23   \"W\"   \n",
      "\n",
      "                 \"City\"  \"State\" new_Column  \n",
      "0          \"Youngstown\"       OH        NaT  \n",
      "1             \"Yankton\"       SD        NaT  \n",
      "2              \"Yakima\"       WA        NaT  \n",
      "3           \"Worcester\"       MA        NaT  \n",
      "4     \"Wisconsin Dells\"       WI        NaT  \n",
      "..                  ...      ...        ...  \n",
      "123              \"Reno\"       NV        NaT  \n",
      "124            \"Regina\"       SA        NaT  \n",
      "125         \"Red Bluff\"       CA        NaT  \n",
      "126           \"Reading\"       PA        NaT  \n",
      "127           \"Ravenna\"      OH         NaT  \n",
      "\n",
      "[128 rows x 11 columns]\n"
     ]
    }
   ],
   "source": [
    "#1\n",
    "import pandas as pd\n",
    "\n",
    "data = pd.read_csv (r'C:\\Users\\Student268\\Downloads\\cities.csv')\n",
    "#df = pd.DataFrame(data, columns= ['Person Name','Country'])\n",
    "data[\"new_Column\"] = pd.NaT\n",
    "\n",
    "print(data)\n"
   ]
  },
  {
   "cell_type": "markdown",
   "id": "44b1cf79",
   "metadata": {},
   "source": [
    "https://C:\\Users\\Student268\\Downloads\\cities.csv this is the file location\n",
    "r'C:\\Users\\Student268\\Downloads\\cities.csv"
   ]
  },
  {
   "cell_type": "markdown",
   "id": "4935871e",
   "metadata": {},
   "source": [
    "Download cities.csv in C7W1 Activity folder\n",
    "Import the CSV in a dataframe\n",
    "Add a column to the dataframe\n",
    "Perform describe and info on dataframe\n",
    "Export and save this data as cities1.csv\n"
   ]
  },
  {
   "cell_type": "code",
   "execution_count": 10,
   "id": "abf74de8",
   "metadata": {},
   "outputs": [
    {
     "data": {
      "text/html": [
       "<div>\n",
       "<style scoped>\n",
       "    .dataframe tbody tr th:only-of-type {\n",
       "        vertical-align: middle;\n",
       "    }\n",
       "\n",
       "    .dataframe tbody tr th {\n",
       "        vertical-align: top;\n",
       "    }\n",
       "\n",
       "    .dataframe thead th {\n",
       "        text-align: right;\n",
       "    }\n",
       "</style>\n",
       "<table border=\"1\" class=\"dataframe\">\n",
       "  <thead>\n",
       "    <tr style=\"text-align: right;\">\n",
       "      <th></th>\n",
       "      <th>LatD</th>\n",
       "      <th>\"LatM\"</th>\n",
       "      <th>\"LatS\"</th>\n",
       "      <th>\"LonD\"</th>\n",
       "      <th>\"LonM\"</th>\n",
       "      <th>\"LonS\"</th>\n",
       "    </tr>\n",
       "  </thead>\n",
       "  <tbody>\n",
       "    <tr>\n",
       "      <th>count</th>\n",
       "      <td>128.000000</td>\n",
       "      <td>128.000000</td>\n",
       "      <td>128.000000</td>\n",
       "      <td>128.000000</td>\n",
       "      <td>128.000000</td>\n",
       "      <td>128.000000</td>\n",
       "    </tr>\n",
       "    <tr>\n",
       "      <th>mean</th>\n",
       "      <td>38.820312</td>\n",
       "      <td>30.765625</td>\n",
       "      <td>27.492188</td>\n",
       "      <td>93.250000</td>\n",
       "      <td>27.742188</td>\n",
       "      <td>26.960938</td>\n",
       "    </tr>\n",
       "    <tr>\n",
       "      <th>std</th>\n",
       "      <td>5.200596</td>\n",
       "      <td>16.426158</td>\n",
       "      <td>18.977814</td>\n",
       "      <td>15.466499</td>\n",
       "      <td>16.927937</td>\n",
       "      <td>18.727807</td>\n",
       "    </tr>\n",
       "    <tr>\n",
       "      <th>min</th>\n",
       "      <td>26.000000</td>\n",
       "      <td>1.000000</td>\n",
       "      <td>0.000000</td>\n",
       "      <td>71.000000</td>\n",
       "      <td>0.000000</td>\n",
       "      <td>0.000000</td>\n",
       "    </tr>\n",
       "    <tr>\n",
       "      <th>25%</th>\n",
       "      <td>35.000000</td>\n",
       "      <td>16.000000</td>\n",
       "      <td>11.000000</td>\n",
       "      <td>80.000000</td>\n",
       "      <td>14.000000</td>\n",
       "      <td>11.000000</td>\n",
       "    </tr>\n",
       "    <tr>\n",
       "      <th>50%</th>\n",
       "      <td>39.000000</td>\n",
       "      <td>31.000000</td>\n",
       "      <td>24.000000</td>\n",
       "      <td>89.500000</td>\n",
       "      <td>26.500000</td>\n",
       "      <td>23.500000</td>\n",
       "    </tr>\n",
       "    <tr>\n",
       "      <th>75%</th>\n",
       "      <td>42.250000</td>\n",
       "      <td>45.000000</td>\n",
       "      <td>47.000000</td>\n",
       "      <td>103.250000</td>\n",
       "      <td>40.250000</td>\n",
       "      <td>47.000000</td>\n",
       "    </tr>\n",
       "    <tr>\n",
       "      <th>max</th>\n",
       "      <td>50.000000</td>\n",
       "      <td>59.000000</td>\n",
       "      <td>59.000000</td>\n",
       "      <td>123.000000</td>\n",
       "      <td>58.000000</td>\n",
       "      <td>59.000000</td>\n",
       "    </tr>\n",
       "  </tbody>\n",
       "</table>\n",
       "</div>"
      ],
      "text/plain": [
       "             LatD      \"LatM\"      \"LatS\"      \"LonD\"      \"LonM\"      \"LonS\"\n",
       "count  128.000000  128.000000  128.000000  128.000000  128.000000  128.000000\n",
       "mean    38.820312   30.765625   27.492188   93.250000   27.742188   26.960938\n",
       "std      5.200596   16.426158   18.977814   15.466499   16.927937   18.727807\n",
       "min     26.000000    1.000000    0.000000   71.000000    0.000000    0.000000\n",
       "25%     35.000000   16.000000   11.000000   80.000000   14.000000   11.000000\n",
       "50%     39.000000   31.000000   24.000000   89.500000   26.500000   23.500000\n",
       "75%     42.250000   45.000000   47.000000  103.250000   40.250000   47.000000\n",
       "max     50.000000   59.000000   59.000000  123.000000   58.000000   59.000000"
      ]
     },
     "execution_count": 10,
     "metadata": {},
     "output_type": "execute_result"
    }
   ],
   "source": [
    "data.describe()"
   ]
  },
  {
   "cell_type": "code",
   "execution_count": 11,
   "id": "ba228bed",
   "metadata": {},
   "outputs": [
    {
     "name": "stdout",
     "output_type": "stream",
     "text": [
      "<class 'pandas.core.frame.DataFrame'>\n",
      "RangeIndex: 128 entries, 0 to 127\n",
      "Data columns (total 11 columns):\n",
      " #   Column      Non-Null Count  Dtype         \n",
      "---  ------      --------------  -----         \n",
      " 0   LatD        128 non-null    int64         \n",
      " 1    \"LatM\"     128 non-null    int64         \n",
      " 2    \"LatS\"     128 non-null    int64         \n",
      " 3    \"NS\"       128 non-null    object        \n",
      " 4    \"LonD\"     128 non-null    int64         \n",
      " 5    \"LonM\"     128 non-null    int64         \n",
      " 6    \"LonS\"     128 non-null    int64         \n",
      " 7    \"EW\"       128 non-null    object        \n",
      " 8    \"City\"     128 non-null    object        \n",
      " 9    \"State\"    128 non-null    object        \n",
      " 10  new_Column  0 non-null      datetime64[ns]\n",
      "dtypes: datetime64[ns](1), int64(6), object(4)\n",
      "memory usage: 11.1+ KB\n"
     ]
    }
   ],
   "source": [
    "data.info()"
   ]
  },
  {
   "cell_type": "code",
   "execution_count": 12,
   "id": "91535a8e",
   "metadata": {},
   "outputs": [],
   "source": [
    "#Export and save this data as cities1.csv\n",
    "data.to_csv('cities1.csv')"
   ]
  },
  {
   "cell_type": "markdown",
   "id": "f73a252c",
   "metadata": {},
   "source": [
    "# 2.Xlsx file\n",
    "Download CarSalesByModelStart.xlsx in C7W1 Activity folder\n",
    "Import xlsx in a dataframe\n",
    "Add a column to the dataframe\n",
    "Perform describe and info on dataframe\n",
    "Export and save this data as CarSalesByModelStart1.xlsx\n"
   ]
  },
  {
   "cell_type": "code",
   "execution_count": 16,
   "id": "e43c4419",
   "metadata": {},
   "outputs": [
    {
     "name": "stdout",
     "output_type": "stream",
     "text": [
      "      Year     Month                Date      Model  Dealer ID  Quantity Sold  \\\n",
      "0     2018   January 2018-01-01 23:00:00   Beaufort       1222             10   \n",
      "1     2018   January 2018-01-01 23:00:00     Salish       1222             13   \n",
      "2     2018   January 2018-01-01 23:00:00   Labrador       1222             16   \n",
      "3     2018   January 2018-01-01 23:00:00  Champlain       1222              3   \n",
      "4     2018   January 2018-01-01 23:00:00     Hudson       1222             22   \n",
      "...    ...       ...                 ...        ...        ...            ...   \n",
      "1195  2019  December 2019-12-01 23:00:00   Beaufort       1288             12   \n",
      "1196  2019  December 2019-12-01 23:00:00     Salish       1288             14   \n",
      "1197  2019  December 2019-12-01 23:00:00   Labrador       1288             18   \n",
      "1198  2019  December 2019-12-01 23:00:00  Champlain       1288              4   \n",
      "1199  2019  December 2019-12-01 23:00:00     Hudson       1288             25   \n",
      "\n",
      "       Profit new_column  \n",
      "0     15000.0        NaT  \n",
      "1     39650.0        NaT  \n",
      "2     12800.0        NaT  \n",
      "3      6900.0        NaT  \n",
      "4     11000.0        NaT  \n",
      "...       ...        ...  \n",
      "1195  18000.0        NaT  \n",
      "1196  42700.0        NaT  \n",
      "1197  14400.0        NaT  \n",
      "1198   9200.0        NaT  \n",
      "1199  12500.0        NaT  \n",
      "\n",
      "[1200 rows x 8 columns]\n"
     ]
    }
   ],
   "source": [
    "import pandas as pd\n",
    "data2=pd.read_excel(r'C:\\Users\\Student268\\Downloads\\CarSalesByModelStart_python.xlsx')\n",
    "data2[\"new_column\"]=pd.NaT\n",
    "print(data2)\n"
   ]
  },
  {
   "cell_type": "code",
   "execution_count": 17,
   "id": "752d151a",
   "metadata": {},
   "outputs": [
    {
     "data": {
      "text/html": [
       "<div>\n",
       "<style scoped>\n",
       "    .dataframe tbody tr th:only-of-type {\n",
       "        vertical-align: middle;\n",
       "    }\n",
       "\n",
       "    .dataframe tbody tr th {\n",
       "        vertical-align: top;\n",
       "    }\n",
       "\n",
       "    .dataframe thead th {\n",
       "        text-align: right;\n",
       "    }\n",
       "</style>\n",
       "<table border=\"1\" class=\"dataframe\">\n",
       "  <thead>\n",
       "    <tr style=\"text-align: right;\">\n",
       "      <th></th>\n",
       "      <th>Year</th>\n",
       "      <th>Dealer ID</th>\n",
       "      <th>Quantity Sold</th>\n",
       "      <th>Profit</th>\n",
       "    </tr>\n",
       "  </thead>\n",
       "  <tbody>\n",
       "    <tr>\n",
       "      <th>count</th>\n",
       "      <td>1200.000000</td>\n",
       "      <td>1200.000000</td>\n",
       "      <td>1200.00000</td>\n",
       "      <td>1200.000000</td>\n",
       "    </tr>\n",
       "    <tr>\n",
       "      <th>mean</th>\n",
       "      <td>2018.500000</td>\n",
       "      <td>1281.800000</td>\n",
       "      <td>17.99750</td>\n",
       "      <td>24974.055208</td>\n",
       "    </tr>\n",
       "    <tr>\n",
       "      <th>std</th>\n",
       "      <td>0.500208</td>\n",
       "      <td>72.453672</td>\n",
       "      <td>9.97432</td>\n",
       "      <td>17370.750612</td>\n",
       "    </tr>\n",
       "    <tr>\n",
       "      <th>min</th>\n",
       "      <td>2018.000000</td>\n",
       "      <td>1212.000000</td>\n",
       "      <td>2.00000</td>\n",
       "      <td>4600.000000</td>\n",
       "    </tr>\n",
       "    <tr>\n",
       "      <th>25%</th>\n",
       "      <td>2018.000000</td>\n",
       "      <td>1217.000000</td>\n",
       "      <td>11.00000</td>\n",
       "      <td>13500.000000</td>\n",
       "    </tr>\n",
       "    <tr>\n",
       "      <th>50%</th>\n",
       "      <td>2018.500000</td>\n",
       "      <td>1256.000000</td>\n",
       "      <td>18.00000</td>\n",
       "      <td>18500.000000</td>\n",
       "    </tr>\n",
       "    <tr>\n",
       "      <th>75%</th>\n",
       "      <td>2019.000000</td>\n",
       "      <td>1336.000000</td>\n",
       "      <td>24.00000</td>\n",
       "      <td>28922.812500</td>\n",
       "    </tr>\n",
       "    <tr>\n",
       "      <th>max</th>\n",
       "      <td>2019.000000</td>\n",
       "      <td>1402.000000</td>\n",
       "      <td>48.00000</td>\n",
       "      <td>83875.000000</td>\n",
       "    </tr>\n",
       "  </tbody>\n",
       "</table>\n",
       "</div>"
      ],
      "text/plain": [
       "              Year    Dealer ID  Quantity Sold        Profit\n",
       "count  1200.000000  1200.000000     1200.00000   1200.000000\n",
       "mean   2018.500000  1281.800000       17.99750  24974.055208\n",
       "std       0.500208    72.453672        9.97432  17370.750612\n",
       "min    2018.000000  1212.000000        2.00000   4600.000000\n",
       "25%    2018.000000  1217.000000       11.00000  13500.000000\n",
       "50%    2018.500000  1256.000000       18.00000  18500.000000\n",
       "75%    2019.000000  1336.000000       24.00000  28922.812500\n",
       "max    2019.000000  1402.000000       48.00000  83875.000000"
      ]
     },
     "execution_count": 17,
     "metadata": {},
     "output_type": "execute_result"
    }
   ],
   "source": [
    "data2.describe()"
   ]
  },
  {
   "cell_type": "code",
   "execution_count": 18,
   "id": "3b506b29",
   "metadata": {},
   "outputs": [
    {
     "name": "stdout",
     "output_type": "stream",
     "text": [
      "<class 'pandas.core.frame.DataFrame'>\n",
      "RangeIndex: 1200 entries, 0 to 1199\n",
      "Data columns (total 8 columns):\n",
      " #   Column         Non-Null Count  Dtype         \n",
      "---  ------         --------------  -----         \n",
      " 0   Year           1200 non-null   int64         \n",
      " 1   Month          1200 non-null   object        \n",
      " 2   Date           1200 non-null   datetime64[ns]\n",
      " 3   Model          1200 non-null   object        \n",
      " 4   Dealer ID      1200 non-null   int64         \n",
      " 5   Quantity Sold  1200 non-null   int64         \n",
      " 6   Profit         1200 non-null   float64       \n",
      " 7   new_column     0 non-null      datetime64[ns]\n",
      "dtypes: datetime64[ns](2), float64(1), int64(3), object(2)\n",
      "memory usage: 75.1+ KB\n"
     ]
    }
   ],
   "source": [
    "data2.info()"
   ]
  },
  {
   "cell_type": "code",
   "execution_count": 19,
   "id": "a5dc806a",
   "metadata": {},
   "outputs": [],
   "source": [
    "data2.to_excel('CarSalesByModelStart1.xlsx')"
   ]
  },
  {
   "cell_type": "code",
   "execution_count": null,
   "id": "8fbb999c",
   "metadata": {},
   "outputs": [],
   "source": []
  },
  {
   "cell_type": "markdown",
   "id": "d00b95a6",
   "metadata": {},
   "source": [
    "# 3 import and export Jayson file in python\n",
    "\n",
    "Download Jay.json in C7W1 Activity folder\n",
    "Import the Json in dataframe\n",
    "Add a column to the dataframe\n",
    "Perform describe and info on dataframe\n",
    "Export and save this data as Jay1.json\n"
   ]
  },
  {
   "cell_type": "code",
   "execution_count": 26,
   "id": "0b107020",
   "metadata": {},
   "outputs": [
    {
     "name": "stdout",
     "output_type": "stream",
     "text": [
      "     Duration  Pulse  Maxpulse  Calories new_Column\n",
      "0          60    110       130     409.1        NaT\n",
      "1          60    117       145     479.0        NaT\n",
      "2          60    103       135     340.0        NaT\n",
      "3          45    109       175     282.4        NaT\n",
      "4          45    117       148     406.0        NaT\n",
      "..        ...    ...       ...       ...        ...\n",
      "164        60    105       140     290.8        NaT\n",
      "165        60    110       145     300.4        NaT\n",
      "166        60    115       145     310.2        NaT\n",
      "167        75    120       150     320.4        NaT\n",
      "168        75    125       150     330.4        NaT\n",
      "\n",
      "[169 rows x 5 columns]\n"
     ]
    }
   ],
   "source": [
    "import pandas as pd\n",
    "data3=pd.read_json(r'C:\\Users\\Student268\\Downloads\\Jay.json')\n",
    "data3[\"new_Column\"]=pd.NaT\n",
    "print(data3)                    "
   ]
  },
  {
   "cell_type": "code",
   "execution_count": 27,
   "id": "0f4d3c9b",
   "metadata": {},
   "outputs": [
    {
     "data": {
      "text/html": [
       "<div>\n",
       "<style scoped>\n",
       "    .dataframe tbody tr th:only-of-type {\n",
       "        vertical-align: middle;\n",
       "    }\n",
       "\n",
       "    .dataframe tbody tr th {\n",
       "        vertical-align: top;\n",
       "    }\n",
       "\n",
       "    .dataframe thead th {\n",
       "        text-align: right;\n",
       "    }\n",
       "</style>\n",
       "<table border=\"1\" class=\"dataframe\">\n",
       "  <thead>\n",
       "    <tr style=\"text-align: right;\">\n",
       "      <th></th>\n",
       "      <th>Duration</th>\n",
       "      <th>Pulse</th>\n",
       "      <th>Maxpulse</th>\n",
       "      <th>Calories</th>\n",
       "    </tr>\n",
       "  </thead>\n",
       "  <tbody>\n",
       "    <tr>\n",
       "      <th>count</th>\n",
       "      <td>169.000000</td>\n",
       "      <td>169.000000</td>\n",
       "      <td>169.000000</td>\n",
       "      <td>164.000000</td>\n",
       "    </tr>\n",
       "    <tr>\n",
       "      <th>mean</th>\n",
       "      <td>63.846154</td>\n",
       "      <td>107.461538</td>\n",
       "      <td>134.047337</td>\n",
       "      <td>375.800000</td>\n",
       "    </tr>\n",
       "    <tr>\n",
       "      <th>std</th>\n",
       "      <td>42.299949</td>\n",
       "      <td>14.510259</td>\n",
       "      <td>16.450434</td>\n",
       "      <td>266.377134</td>\n",
       "    </tr>\n",
       "    <tr>\n",
       "      <th>min</th>\n",
       "      <td>15.000000</td>\n",
       "      <td>80.000000</td>\n",
       "      <td>100.000000</td>\n",
       "      <td>50.300000</td>\n",
       "    </tr>\n",
       "    <tr>\n",
       "      <th>25%</th>\n",
       "      <td>45.000000</td>\n",
       "      <td>100.000000</td>\n",
       "      <td>124.000000</td>\n",
       "      <td>250.925000</td>\n",
       "    </tr>\n",
       "    <tr>\n",
       "      <th>50%</th>\n",
       "      <td>60.000000</td>\n",
       "      <td>105.000000</td>\n",
       "      <td>131.000000</td>\n",
       "      <td>318.600000</td>\n",
       "    </tr>\n",
       "    <tr>\n",
       "      <th>75%</th>\n",
       "      <td>60.000000</td>\n",
       "      <td>111.000000</td>\n",
       "      <td>141.000000</td>\n",
       "      <td>387.600000</td>\n",
       "    </tr>\n",
       "    <tr>\n",
       "      <th>max</th>\n",
       "      <td>300.000000</td>\n",
       "      <td>159.000000</td>\n",
       "      <td>184.000000</td>\n",
       "      <td>1860.400000</td>\n",
       "    </tr>\n",
       "  </tbody>\n",
       "</table>\n",
       "</div>"
      ],
      "text/plain": [
       "         Duration       Pulse    Maxpulse     Calories\n",
       "count  169.000000  169.000000  169.000000   164.000000\n",
       "mean    63.846154  107.461538  134.047337   375.800000\n",
       "std     42.299949   14.510259   16.450434   266.377134\n",
       "min     15.000000   80.000000  100.000000    50.300000\n",
       "25%     45.000000  100.000000  124.000000   250.925000\n",
       "50%     60.000000  105.000000  131.000000   318.600000\n",
       "75%     60.000000  111.000000  141.000000   387.600000\n",
       "max    300.000000  159.000000  184.000000  1860.400000"
      ]
     },
     "execution_count": 27,
     "metadata": {},
     "output_type": "execute_result"
    }
   ],
   "source": [
    "data3.describe()"
   ]
  },
  {
   "cell_type": "code",
   "execution_count": 28,
   "id": "f01e7b9c",
   "metadata": {},
   "outputs": [
    {
     "name": "stdout",
     "output_type": "stream",
     "text": [
      "<class 'pandas.core.frame.DataFrame'>\n",
      "Int64Index: 169 entries, 0 to 168\n",
      "Data columns (total 5 columns):\n",
      " #   Column      Non-Null Count  Dtype         \n",
      "---  ------      --------------  -----         \n",
      " 0   Duration    169 non-null    int64         \n",
      " 1   Pulse       169 non-null    int64         \n",
      " 2   Maxpulse    169 non-null    int64         \n",
      " 3   Calories    164 non-null    float64       \n",
      " 4   new_Column  0 non-null      datetime64[ns]\n",
      "dtypes: datetime64[ns](1), float64(1), int64(3)\n",
      "memory usage: 7.9 KB\n"
     ]
    }
   ],
   "source": [
    "data3.info()"
   ]
  },
  {
   "cell_type": "code",
   "execution_count": 29,
   "id": "abcf7bd5",
   "metadata": {},
   "outputs": [],
   "source": [
    "data3.to_json('Jay1.json')"
   ]
  },
  {
   "cell_type": "code",
   "execution_count": null,
   "id": "7379352a",
   "metadata": {},
   "outputs": [],
   "source": []
  }
 ],
 "metadata": {
  "kernelspec": {
   "display_name": "Python 3 (ipykernel)",
   "language": "python",
   "name": "python3"
  },
  "language_info": {
   "codemirror_mode": {
    "name": "ipython",
    "version": 3
   },
   "file_extension": ".py",
   "mimetype": "text/x-python",
   "name": "python",
   "nbconvert_exporter": "python",
   "pygments_lexer": "ipython3",
   "version": "3.9.12"
  }
 },
 "nbformat": 4,
 "nbformat_minor": 5
}
